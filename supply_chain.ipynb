{
  "nbformat": 4,
  "nbformat_minor": 0,
  "metadata": {
    "colab": {
      "provenance": [],
      "authorship_tag": "ABX9TyPe33ih3rZm7byODK6vtu76",
      "include_colab_link": true
    },
    "kernelspec": {
      "name": "python3",
      "display_name": "Python 3"
    },
    "language_info": {
      "name": "python"
    }
  },
  "cells": [
    {
      "cell_type": "markdown",
      "metadata": {
        "id": "view-in-github",
        "colab_type": "text"
      },
      "source": [
        "<a href=\"https://colab.research.google.com/github/aminadli/Supply-Chain-Analysis/blob/main/supply_chain.ipynb\" target=\"_parent\"><img src=\"https://colab.research.google.com/assets/colab-badge.svg\" alt=\"Open In Colab\"/></a>"
      ]
    },
    {
      "cell_type": "code",
      "source": [
        "# Import libraries\n",
        "import pandas as pd\n",
        "import numpy as np\n",
        "import matplotlib.pyplot as plt\n",
        "import seaborn as sns\n"
      ],
      "metadata": {
        "execution": {
          "iopub.status.busy": "2023-04-26T16:32:06.161403Z",
          "iopub.execute_input": "2023-04-26T16:32:06.161889Z",
          "iopub.status.idle": "2023-04-26T16:32:06.971274Z",
          "shell.execute_reply.started": "2023-04-26T16:32:06.161851Z",
          "shell.execute_reply": "2023-04-26T16:32:06.970154Z"
        },
        "trusted": true,
        "id": "xGanILY-8EUz"
      },
      "execution_count": 1,
      "outputs": []
    },
    {
      "cell_type": "code",
      "source": [
        "df=pd.read_csv('https://raw.githubusercontent.com/aminadli/Supply-Chain-Analysis/main/supply_chain_data.csv')\n"
      ],
      "metadata": {
        "execution": {
          "iopub.status.busy": "2023-04-26T16:32:39.616288Z",
          "iopub.execute_input": "2023-04-26T16:32:39.616765Z",
          "iopub.status.idle": "2023-04-26T16:32:39.693259Z",
          "shell.execute_reply.started": "2023-04-26T16:32:39.616713Z",
          "shell.execute_reply": "2023-04-26T16:32:39.691476Z"
        },
        "trusted": true,
        "id": "GHY6fMeQ8EUz"
      },
      "execution_count": 4,
      "outputs": []
    },
    {
      "cell_type": "code",
      "source": [
        "df.head()"
      ],
      "metadata": {
        "colab": {
          "base_uri": "https://localhost:8080/",
          "height": 394
        },
        "id": "MKCBYus_80Kw",
        "outputId": "f70be394-2acf-434d-cad8-8c475acc0e84"
      },
      "execution_count": 5,
      "outputs": [
        {
          "output_type": "execute_result",
          "data": {
            "text/plain": [
              "  Product type   SKU      Price  Availability  Number of products sold  \\\n",
              "0     haircare  SKU0  69.808006            55                      802   \n",
              "1     skincare  SKU1  14.843523            95                      736   \n",
              "2     haircare  SKU2  11.319683            34                        8   \n",
              "3     skincare  SKU3  61.163343            68                       83   \n",
              "4     skincare  SKU4   4.805496            26                      871   \n",
              "\n",
              "   Revenue generated Customer demographics  Stock levels  Lead times  \\\n",
              "0        8661.996792            Non-binary            58           7   \n",
              "1        7460.900065                Female            53          30   \n",
              "2        9577.749626               Unknown             1          10   \n",
              "3        7766.836426            Non-binary            23          13   \n",
              "4        2686.505152            Non-binary             5           3   \n",
              "\n",
              "   Order quantities  ...  Location Lead time  Production volumes  \\\n",
              "0                96  ...    Mumbai        29                 215   \n",
              "1                37  ...    Mumbai        23                 517   \n",
              "2                88  ...    Mumbai        12                 971   \n",
              "3                59  ...   Kolkata        24                 937   \n",
              "4                56  ...     Delhi         5                 414   \n",
              "\n",
              "  Manufacturing lead time Manufacturing costs  Inspection results  \\\n",
              "0                      29           46.279879             Pending   \n",
              "1                      30           33.616769             Pending   \n",
              "2                      27           30.688019             Pending   \n",
              "3                      18           35.624741                Fail   \n",
              "4                       3           92.065161                Fail   \n",
              "\n",
              "   Defect rates  Transportation modes   Routes       Costs  \n",
              "0      0.226410                  Road  Route B  187.752075  \n",
              "1      4.854068                  Road  Route B  503.065579  \n",
              "2      4.580593                   Air  Route C  141.920282  \n",
              "3      4.746649                  Rail  Route A  254.776159  \n",
              "4      3.145580                   Air  Route A  923.440632  \n",
              "\n",
              "[5 rows x 24 columns]"
            ],
            "text/html": [
              "\n",
              "  <div id=\"df-60aeb3eb-ceed-4921-839c-cf8de4a25f06\" class=\"colab-df-container\">\n",
              "    <div>\n",
              "<style scoped>\n",
              "    .dataframe tbody tr th:only-of-type {\n",
              "        vertical-align: middle;\n",
              "    }\n",
              "\n",
              "    .dataframe tbody tr th {\n",
              "        vertical-align: top;\n",
              "    }\n",
              "\n",
              "    .dataframe thead th {\n",
              "        text-align: right;\n",
              "    }\n",
              "</style>\n",
              "<table border=\"1\" class=\"dataframe\">\n",
              "  <thead>\n",
              "    <tr style=\"text-align: right;\">\n",
              "      <th></th>\n",
              "      <th>Product type</th>\n",
              "      <th>SKU</th>\n",
              "      <th>Price</th>\n",
              "      <th>Availability</th>\n",
              "      <th>Number of products sold</th>\n",
              "      <th>Revenue generated</th>\n",
              "      <th>Customer demographics</th>\n",
              "      <th>Stock levels</th>\n",
              "      <th>Lead times</th>\n",
              "      <th>Order quantities</th>\n",
              "      <th>...</th>\n",
              "      <th>Location</th>\n",
              "      <th>Lead time</th>\n",
              "      <th>Production volumes</th>\n",
              "      <th>Manufacturing lead time</th>\n",
              "      <th>Manufacturing costs</th>\n",
              "      <th>Inspection results</th>\n",
              "      <th>Defect rates</th>\n",
              "      <th>Transportation modes</th>\n",
              "      <th>Routes</th>\n",
              "      <th>Costs</th>\n",
              "    </tr>\n",
              "  </thead>\n",
              "  <tbody>\n",
              "    <tr>\n",
              "      <th>0</th>\n",
              "      <td>haircare</td>\n",
              "      <td>SKU0</td>\n",
              "      <td>69.808006</td>\n",
              "      <td>55</td>\n",
              "      <td>802</td>\n",
              "      <td>8661.996792</td>\n",
              "      <td>Non-binary</td>\n",
              "      <td>58</td>\n",
              "      <td>7</td>\n",
              "      <td>96</td>\n",
              "      <td>...</td>\n",
              "      <td>Mumbai</td>\n",
              "      <td>29</td>\n",
              "      <td>215</td>\n",
              "      <td>29</td>\n",
              "      <td>46.279879</td>\n",
              "      <td>Pending</td>\n",
              "      <td>0.226410</td>\n",
              "      <td>Road</td>\n",
              "      <td>Route B</td>\n",
              "      <td>187.752075</td>\n",
              "    </tr>\n",
              "    <tr>\n",
              "      <th>1</th>\n",
              "      <td>skincare</td>\n",
              "      <td>SKU1</td>\n",
              "      <td>14.843523</td>\n",
              "      <td>95</td>\n",
              "      <td>736</td>\n",
              "      <td>7460.900065</td>\n",
              "      <td>Female</td>\n",
              "      <td>53</td>\n",
              "      <td>30</td>\n",
              "      <td>37</td>\n",
              "      <td>...</td>\n",
              "      <td>Mumbai</td>\n",
              "      <td>23</td>\n",
              "      <td>517</td>\n",
              "      <td>30</td>\n",
              "      <td>33.616769</td>\n",
              "      <td>Pending</td>\n",
              "      <td>4.854068</td>\n",
              "      <td>Road</td>\n",
              "      <td>Route B</td>\n",
              "      <td>503.065579</td>\n",
              "    </tr>\n",
              "    <tr>\n",
              "      <th>2</th>\n",
              "      <td>haircare</td>\n",
              "      <td>SKU2</td>\n",
              "      <td>11.319683</td>\n",
              "      <td>34</td>\n",
              "      <td>8</td>\n",
              "      <td>9577.749626</td>\n",
              "      <td>Unknown</td>\n",
              "      <td>1</td>\n",
              "      <td>10</td>\n",
              "      <td>88</td>\n",
              "      <td>...</td>\n",
              "      <td>Mumbai</td>\n",
              "      <td>12</td>\n",
              "      <td>971</td>\n",
              "      <td>27</td>\n",
              "      <td>30.688019</td>\n",
              "      <td>Pending</td>\n",
              "      <td>4.580593</td>\n",
              "      <td>Air</td>\n",
              "      <td>Route C</td>\n",
              "      <td>141.920282</td>\n",
              "    </tr>\n",
              "    <tr>\n",
              "      <th>3</th>\n",
              "      <td>skincare</td>\n",
              "      <td>SKU3</td>\n",
              "      <td>61.163343</td>\n",
              "      <td>68</td>\n",
              "      <td>83</td>\n",
              "      <td>7766.836426</td>\n",
              "      <td>Non-binary</td>\n",
              "      <td>23</td>\n",
              "      <td>13</td>\n",
              "      <td>59</td>\n",
              "      <td>...</td>\n",
              "      <td>Kolkata</td>\n",
              "      <td>24</td>\n",
              "      <td>937</td>\n",
              "      <td>18</td>\n",
              "      <td>35.624741</td>\n",
              "      <td>Fail</td>\n",
              "      <td>4.746649</td>\n",
              "      <td>Rail</td>\n",
              "      <td>Route A</td>\n",
              "      <td>254.776159</td>\n",
              "    </tr>\n",
              "    <tr>\n",
              "      <th>4</th>\n",
              "      <td>skincare</td>\n",
              "      <td>SKU4</td>\n",
              "      <td>4.805496</td>\n",
              "      <td>26</td>\n",
              "      <td>871</td>\n",
              "      <td>2686.505152</td>\n",
              "      <td>Non-binary</td>\n",
              "      <td>5</td>\n",
              "      <td>3</td>\n",
              "      <td>56</td>\n",
              "      <td>...</td>\n",
              "      <td>Delhi</td>\n",
              "      <td>5</td>\n",
              "      <td>414</td>\n",
              "      <td>3</td>\n",
              "      <td>92.065161</td>\n",
              "      <td>Fail</td>\n",
              "      <td>3.145580</td>\n",
              "      <td>Air</td>\n",
              "      <td>Route A</td>\n",
              "      <td>923.440632</td>\n",
              "    </tr>\n",
              "  </tbody>\n",
              "</table>\n",
              "<p>5 rows × 24 columns</p>\n",
              "</div>\n",
              "    <div class=\"colab-df-buttons\">\n",
              "\n",
              "  <div class=\"colab-df-container\">\n",
              "    <button class=\"colab-df-convert\" onclick=\"convertToInteractive('df-60aeb3eb-ceed-4921-839c-cf8de4a25f06')\"\n",
              "            title=\"Convert this dataframe to an interactive table.\"\n",
              "            style=\"display:none;\">\n",
              "\n",
              "  <svg xmlns=\"http://www.w3.org/2000/svg\" height=\"24px\" viewBox=\"0 -960 960 960\">\n",
              "    <path d=\"M120-120v-720h720v720H120Zm60-500h600v-160H180v160Zm220 220h160v-160H400v160Zm0 220h160v-160H400v160ZM180-400h160v-160H180v160Zm440 0h160v-160H620v160ZM180-180h160v-160H180v160Zm440 0h160v-160H620v160Z\"/>\n",
              "  </svg>\n",
              "    </button>\n",
              "\n",
              "  <style>\n",
              "    .colab-df-container {\n",
              "      display:flex;\n",
              "      gap: 12px;\n",
              "    }\n",
              "\n",
              "    .colab-df-convert {\n",
              "      background-color: #E8F0FE;\n",
              "      border: none;\n",
              "      border-radius: 50%;\n",
              "      cursor: pointer;\n",
              "      display: none;\n",
              "      fill: #1967D2;\n",
              "      height: 32px;\n",
              "      padding: 0 0 0 0;\n",
              "      width: 32px;\n",
              "    }\n",
              "\n",
              "    .colab-df-convert:hover {\n",
              "      background-color: #E2EBFA;\n",
              "      box-shadow: 0px 1px 2px rgba(60, 64, 67, 0.3), 0px 1px 3px 1px rgba(60, 64, 67, 0.15);\n",
              "      fill: #174EA6;\n",
              "    }\n",
              "\n",
              "    .colab-df-buttons div {\n",
              "      margin-bottom: 4px;\n",
              "    }\n",
              "\n",
              "    [theme=dark] .colab-df-convert {\n",
              "      background-color: #3B4455;\n",
              "      fill: #D2E3FC;\n",
              "    }\n",
              "\n",
              "    [theme=dark] .colab-df-convert:hover {\n",
              "      background-color: #434B5C;\n",
              "      box-shadow: 0px 1px 3px 1px rgba(0, 0, 0, 0.15);\n",
              "      filter: drop-shadow(0px 1px 2px rgba(0, 0, 0, 0.3));\n",
              "      fill: #FFFFFF;\n",
              "    }\n",
              "  </style>\n",
              "\n",
              "    <script>\n",
              "      const buttonEl =\n",
              "        document.querySelector('#df-60aeb3eb-ceed-4921-839c-cf8de4a25f06 button.colab-df-convert');\n",
              "      buttonEl.style.display =\n",
              "        google.colab.kernel.accessAllowed ? 'block' : 'none';\n",
              "\n",
              "      async function convertToInteractive(key) {\n",
              "        const element = document.querySelector('#df-60aeb3eb-ceed-4921-839c-cf8de4a25f06');\n",
              "        const dataTable =\n",
              "          await google.colab.kernel.invokeFunction('convertToInteractive',\n",
              "                                                    [key], {});\n",
              "        if (!dataTable) return;\n",
              "\n",
              "        const docLinkHtml = 'Like what you see? Visit the ' +\n",
              "          '<a target=\"_blank\" href=https://colab.research.google.com/notebooks/data_table.ipynb>data table notebook</a>'\n",
              "          + ' to learn more about interactive tables.';\n",
              "        element.innerHTML = '';\n",
              "        dataTable['output_type'] = 'display_data';\n",
              "        await google.colab.output.renderOutput(dataTable, element);\n",
              "        const docLink = document.createElement('div');\n",
              "        docLink.innerHTML = docLinkHtml;\n",
              "        element.appendChild(docLink);\n",
              "      }\n",
              "    </script>\n",
              "  </div>\n",
              "\n",
              "\n",
              "<div id=\"df-96ee9b5f-b070-4cf4-8bb2-ce487b7f2a9d\">\n",
              "  <button class=\"colab-df-quickchart\" onclick=\"quickchart('df-96ee9b5f-b070-4cf4-8bb2-ce487b7f2a9d')\"\n",
              "            title=\"Suggest charts\"\n",
              "            style=\"display:none;\">\n",
              "\n",
              "<svg xmlns=\"http://www.w3.org/2000/svg\" height=\"24px\"viewBox=\"0 0 24 24\"\n",
              "     width=\"24px\">\n",
              "    <g>\n",
              "        <path d=\"M19 3H5c-1.1 0-2 .9-2 2v14c0 1.1.9 2 2 2h14c1.1 0 2-.9 2-2V5c0-1.1-.9-2-2-2zM9 17H7v-7h2v7zm4 0h-2V7h2v10zm4 0h-2v-4h2v4z\"/>\n",
              "    </g>\n",
              "</svg>\n",
              "  </button>\n",
              "\n",
              "<style>\n",
              "  .colab-df-quickchart {\n",
              "      --bg-color: #E8F0FE;\n",
              "      --fill-color: #1967D2;\n",
              "      --hover-bg-color: #E2EBFA;\n",
              "      --hover-fill-color: #174EA6;\n",
              "      --disabled-fill-color: #AAA;\n",
              "      --disabled-bg-color: #DDD;\n",
              "  }\n",
              "\n",
              "  [theme=dark] .colab-df-quickchart {\n",
              "      --bg-color: #3B4455;\n",
              "      --fill-color: #D2E3FC;\n",
              "      --hover-bg-color: #434B5C;\n",
              "      --hover-fill-color: #FFFFFF;\n",
              "      --disabled-bg-color: #3B4455;\n",
              "      --disabled-fill-color: #666;\n",
              "  }\n",
              "\n",
              "  .colab-df-quickchart {\n",
              "    background-color: var(--bg-color);\n",
              "    border: none;\n",
              "    border-radius: 50%;\n",
              "    cursor: pointer;\n",
              "    display: none;\n",
              "    fill: var(--fill-color);\n",
              "    height: 32px;\n",
              "    padding: 0;\n",
              "    width: 32px;\n",
              "  }\n",
              "\n",
              "  .colab-df-quickchart:hover {\n",
              "    background-color: var(--hover-bg-color);\n",
              "    box-shadow: 0 1px 2px rgba(60, 64, 67, 0.3), 0 1px 3px 1px rgba(60, 64, 67, 0.15);\n",
              "    fill: var(--button-hover-fill-color);\n",
              "  }\n",
              "\n",
              "  .colab-df-quickchart-complete:disabled,\n",
              "  .colab-df-quickchart-complete:disabled:hover {\n",
              "    background-color: var(--disabled-bg-color);\n",
              "    fill: var(--disabled-fill-color);\n",
              "    box-shadow: none;\n",
              "  }\n",
              "\n",
              "  .colab-df-spinner {\n",
              "    border: 2px solid var(--fill-color);\n",
              "    border-color: transparent;\n",
              "    border-bottom-color: var(--fill-color);\n",
              "    animation:\n",
              "      spin 1s steps(1) infinite;\n",
              "  }\n",
              "\n",
              "  @keyframes spin {\n",
              "    0% {\n",
              "      border-color: transparent;\n",
              "      border-bottom-color: var(--fill-color);\n",
              "      border-left-color: var(--fill-color);\n",
              "    }\n",
              "    20% {\n",
              "      border-color: transparent;\n",
              "      border-left-color: var(--fill-color);\n",
              "      border-top-color: var(--fill-color);\n",
              "    }\n",
              "    30% {\n",
              "      border-color: transparent;\n",
              "      border-left-color: var(--fill-color);\n",
              "      border-top-color: var(--fill-color);\n",
              "      border-right-color: var(--fill-color);\n",
              "    }\n",
              "    40% {\n",
              "      border-color: transparent;\n",
              "      border-right-color: var(--fill-color);\n",
              "      border-top-color: var(--fill-color);\n",
              "    }\n",
              "    60% {\n",
              "      border-color: transparent;\n",
              "      border-right-color: var(--fill-color);\n",
              "    }\n",
              "    80% {\n",
              "      border-color: transparent;\n",
              "      border-right-color: var(--fill-color);\n",
              "      border-bottom-color: var(--fill-color);\n",
              "    }\n",
              "    90% {\n",
              "      border-color: transparent;\n",
              "      border-bottom-color: var(--fill-color);\n",
              "    }\n",
              "  }\n",
              "</style>\n",
              "\n",
              "  <script>\n",
              "    async function quickchart(key) {\n",
              "      const quickchartButtonEl =\n",
              "        document.querySelector('#' + key + ' button');\n",
              "      quickchartButtonEl.disabled = true;  // To prevent multiple clicks.\n",
              "      quickchartButtonEl.classList.add('colab-df-spinner');\n",
              "      try {\n",
              "        const charts = await google.colab.kernel.invokeFunction(\n",
              "            'suggestCharts', [key], {});\n",
              "      } catch (error) {\n",
              "        console.error('Error during call to suggestCharts:', error);\n",
              "      }\n",
              "      quickchartButtonEl.classList.remove('colab-df-spinner');\n",
              "      quickchartButtonEl.classList.add('colab-df-quickchart-complete');\n",
              "    }\n",
              "    (() => {\n",
              "      let quickchartButtonEl =\n",
              "        document.querySelector('#df-96ee9b5f-b070-4cf4-8bb2-ce487b7f2a9d button');\n",
              "      quickchartButtonEl.style.display =\n",
              "        google.colab.kernel.accessAllowed ? 'block' : 'none';\n",
              "    })();\n",
              "  </script>\n",
              "</div>\n",
              "\n",
              "    </div>\n",
              "  </div>\n"
            ],
            "application/vnd.google.colaboratory.intrinsic+json": {
              "type": "dataframe",
              "variable_name": "df"
            }
          },
          "metadata": {},
          "execution_count": 5
        }
      ]
    },
    {
      "cell_type": "code",
      "source": [
        "df.tail()"
      ],
      "metadata": {
        "execution": {
          "iopub.status.busy": "2023-04-26T16:32:53.79358Z",
          "iopub.execute_input": "2023-04-26T16:32:53.794203Z",
          "iopub.status.idle": "2023-04-26T16:32:53.829469Z",
          "shell.execute_reply.started": "2023-04-26T16:32:53.794147Z",
          "shell.execute_reply": "2023-04-26T16:32:53.827346Z"
        },
        "trusted": true,
        "id": "oL7Yg9AQ8EU0"
      },
      "execution_count": null,
      "outputs": []
    },
    {
      "cell_type": "code",
      "source": [
        "df.shape"
      ],
      "metadata": {
        "execution": {
          "iopub.status.busy": "2023-04-26T16:33:01.460768Z",
          "iopub.execute_input": "2023-04-26T16:33:01.462398Z",
          "iopub.status.idle": "2023-04-26T16:33:01.471095Z",
          "shell.execute_reply.started": "2023-04-26T16:33:01.462326Z",
          "shell.execute_reply": "2023-04-26T16:33:01.469849Z"
        },
        "trusted": true,
        "id": "ZtN1COj-8EU0"
      },
      "execution_count": null,
      "outputs": []
    },
    {
      "cell_type": "code",
      "source": [
        "df.info()"
      ],
      "metadata": {
        "execution": {
          "iopub.status.busy": "2023-04-26T16:33:10.98461Z",
          "iopub.execute_input": "2023-04-26T16:33:10.985213Z",
          "iopub.status.idle": "2023-04-26T16:33:11.011432Z",
          "shell.execute_reply.started": "2023-04-26T16:33:10.985155Z",
          "shell.execute_reply": "2023-04-26T16:33:11.010191Z"
        },
        "trusted": true,
        "id": "NvKePoVI8EU0"
      },
      "execution_count": null,
      "outputs": []
    },
    {
      "cell_type": "code",
      "source": [
        "df.describe()"
      ],
      "metadata": {
        "execution": {
          "iopub.status.busy": "2023-04-26T17:01:04.573221Z",
          "iopub.execute_input": "2023-04-26T17:01:04.57366Z",
          "iopub.status.idle": "2023-04-26T17:01:04.64789Z",
          "shell.execute_reply.started": "2023-04-26T17:01:04.573623Z",
          "shell.execute_reply": "2023-04-26T17:01:04.6461Z"
        },
        "trusted": true,
        "id": "TohockOI8EU1"
      },
      "execution_count": null,
      "outputs": []
    },
    {
      "cell_type": "code",
      "source": [
        "df.columns"
      ],
      "metadata": {
        "execution": {
          "iopub.status.busy": "2023-04-26T17:01:23.791916Z",
          "iopub.execute_input": "2023-04-26T17:01:23.79251Z",
          "iopub.status.idle": "2023-04-26T17:01:23.802714Z",
          "shell.execute_reply.started": "2023-04-26T17:01:23.792454Z",
          "shell.execute_reply": "2023-04-26T17:01:23.801345Z"
        },
        "trusted": true,
        "id": "I8l3O8b38EU1"
      },
      "execution_count": null,
      "outputs": []
    },
    {
      "cell_type": "code",
      "source": [
        "df.isnull().sum()"
      ],
      "metadata": {
        "execution": {
          "iopub.status.busy": "2023-04-26T17:02:54.990488Z",
          "iopub.execute_input": "2023-04-26T17:02:54.990947Z",
          "iopub.status.idle": "2023-04-26T17:02:55.003323Z",
          "shell.execute_reply.started": "2023-04-26T17:02:54.99091Z",
          "shell.execute_reply": "2023-04-26T17:02:55.001839Z"
        },
        "trusted": true,
        "id": "1TFPWbi-8EU1"
      },
      "execution_count": null,
      "outputs": []
    },
    {
      "cell_type": "code",
      "source": [
        "# create a bar chart of product types\n",
        "plt.figure(figsize=(8,6))\n",
        "sns.countplot(data=df, x='Product type')\n",
        "plt.xlabel('Product Type')\n",
        "plt.ylabel('Count')\n",
        "plt.title('Number of Products by Type')\n",
        "plt.show()\n"
      ],
      "metadata": {
        "execution": {
          "iopub.status.busy": "2023-04-26T17:04:54.042733Z",
          "iopub.execute_input": "2023-04-26T17:04:54.043219Z",
          "iopub.status.idle": "2023-04-26T17:04:54.306048Z",
          "shell.execute_reply.started": "2023-04-26T17:04:54.043181Z",
          "shell.execute_reply": "2023-04-26T17:04:54.304464Z"
        },
        "trusted": true,
        "id": "6KJ0qxjs8EU2"
      },
      "execution_count": null,
      "outputs": []
    },
    {
      "cell_type": "code",
      "source": [
        "# create a scatter plot of price vs revenue\n",
        "plt.figure(figsize=(8,6))\n",
        "sns.scatterplot(data=df, x='Price', y='Revenue generated')\n",
        "plt.xlabel('Price')\n",
        "plt.ylabel('Revenue Generated')\n",
        "plt.title('Price vs Revenue Generated')\n",
        "plt.show()\n"
      ],
      "metadata": {
        "execution": {
          "iopub.status.busy": "2023-04-26T17:05:08.647367Z",
          "iopub.execute_input": "2023-04-26T17:05:08.649019Z",
          "iopub.status.idle": "2023-04-26T17:05:08.921096Z",
          "shell.execute_reply.started": "2023-04-26T17:05:08.648959Z",
          "shell.execute_reply": "2023-04-26T17:05:08.919072Z"
        },
        "trusted": true,
        "id": "-Rz7b-jK8EU2"
      },
      "execution_count": null,
      "outputs": []
    },
    {
      "cell_type": "code",
      "source": [
        "# create a histogram of number of products sold\n",
        "plt.figure(figsize=(8,6))\n",
        "sns.histplot(data=df, x='Number of products sold', bins=20)\n",
        "plt.xlabel('Number of Products Sold')\n",
        "plt.ylabel('Count')\n",
        "plt.title('Distribution of Number of Products Sold')\n",
        "plt.show()\n"
      ],
      "metadata": {
        "execution": {
          "iopub.status.busy": "2023-04-26T17:06:18.020171Z",
          "iopub.execute_input": "2023-04-26T17:06:18.020665Z",
          "iopub.status.idle": "2023-04-26T17:06:18.326649Z",
          "shell.execute_reply.started": "2023-04-26T17:06:18.020623Z",
          "shell.execute_reply": "2023-04-26T17:06:18.325088Z"
        },
        "trusted": true,
        "id": "msZKRS0x8EU2"
      },
      "execution_count": null,
      "outputs": []
    },
    {
      "cell_type": "code",
      "source": [
        "# create a heatmap of customer demographics\n",
        "plt.figure(figsize=(10,8))\n",
        "sns.heatmap(pd.crosstab(df['Product type'], df['Customer demographics']), cmap='Blues')\n",
        "plt.xlabel('Customer Demographics')\n",
        "plt.ylabel('Product Type')\n",
        "plt.title('Product Type by Customer Demographics')\n",
        "plt.show()\n"
      ],
      "metadata": {
        "execution": {
          "iopub.status.busy": "2023-04-26T17:06:27.98071Z",
          "iopub.execute_input": "2023-04-26T17:06:27.982181Z",
          "iopub.status.idle": "2023-04-26T17:06:28.335309Z",
          "shell.execute_reply.started": "2023-04-26T17:06:27.982117Z",
          "shell.execute_reply": "2023-04-26T17:06:28.333869Z"
        },
        "trusted": true,
        "id": "znLw3wxg8EU2"
      },
      "execution_count": null,
      "outputs": []
    },
    {
      "cell_type": "code",
      "source": [
        "# create a box plot of lead times\n",
        "plt.figure(figsize=(8,6))\n",
        "sns.boxplot(data=df, x='Product type', y='Lead times')\n",
        "plt.xlabel('Product Type')\n",
        "plt.ylabel('Lead Times')\n",
        "plt.title('Lead Times by Product Type')\n",
        "plt.show()\n"
      ],
      "metadata": {
        "execution": {
          "iopub.status.busy": "2023-04-26T17:06:38.812335Z",
          "iopub.execute_input": "2023-04-26T17:06:38.813716Z",
          "iopub.status.idle": "2023-04-26T17:06:39.004406Z",
          "shell.execute_reply.started": "2023-04-26T17:06:38.813662Z",
          "shell.execute_reply": "2023-04-26T17:06:39.002125Z"
        },
        "trusted": true,
        "id": "c2Iyzkr48EU2"
      },
      "execution_count": null,
      "outputs": []
    },
    {
      "cell_type": "code",
      "source": [
        "# create a stacked bar chart of shipping carriers and transportation modes\n",
        "plt.figure(figsize=(10,8))\n",
        "pd.crosstab(df['Product type'], [df['Shipping carriers'], df['Transportation modes']]).plot(kind='bar', stacked=True)\n",
        "plt.xlabel('Product Type')\n",
        "plt.ylabel('Count')\n",
        "plt.title('Shipping Carriers and Transportation Modes by Product Type')\n",
        "plt.show()\n"
      ],
      "metadata": {
        "execution": {
          "iopub.status.busy": "2023-04-26T17:06:50.146206Z",
          "iopub.execute_input": "2023-04-26T17:06:50.147448Z",
          "iopub.status.idle": "2023-04-26T17:06:50.656712Z",
          "shell.execute_reply.started": "2023-04-26T17:06:50.147399Z",
          "shell.execute_reply": "2023-04-26T17:06:50.655423Z"
        },
        "trusted": true,
        "id": "kiuRCYOL8EU2"
      },
      "execution_count": null,
      "outputs": []
    },
    {
      "cell_type": "code",
      "source": [
        "# create a scatter plot of production volumes vs manufacturing costs\n",
        "plt.figure(figsize=(8,6))\n",
        "sns.scatterplot(data=df, x='Production volumes', y='Manufacturing costs')\n",
        "plt.xlabel('Production Volumes')\n",
        "plt.ylabel('Manufacturing Costs')\n",
        "plt.title('Production Volumes vs Manufacturing Costs')\n",
        "plt.show()\n"
      ],
      "metadata": {
        "execution": {
          "iopub.status.busy": "2023-04-26T17:07:03.143219Z",
          "iopub.execute_input": "2023-04-26T17:07:03.144611Z",
          "iopub.status.idle": "2023-04-26T17:07:03.408151Z",
          "shell.execute_reply.started": "2023-04-26T17:07:03.144563Z",
          "shell.execute_reply": "2023-04-26T17:07:03.406514Z"
        },
        "trusted": true,
        "id": "oCTF8TP98EU3"
      },
      "execution_count": null,
      "outputs": []
    },
    {
      "cell_type": "code",
      "source": [
        "plt.figure(figsize=(8,6))\n",
        "top_suppliers = df.groupby('Supplier name')['Revenue generated'].sum().nlargest(10)\n",
        "sns.barplot(x=top_suppliers.values, y=top_suppliers.index, palette='Blues_d')\n",
        "plt.xlabel('Revenue generated')\n",
        "plt.ylabel('Supplier name')\n",
        "plt.title('Top 10 suppliers by revenue')\n",
        "plt.show()\n"
      ],
      "metadata": {
        "execution": {
          "iopub.status.busy": "2023-04-26T17:10:02.190656Z",
          "iopub.execute_input": "2023-04-26T17:10:02.191098Z",
          "iopub.status.idle": "2023-04-26T17:10:02.412996Z",
          "shell.execute_reply.started": "2023-04-26T17:10:02.19106Z",
          "shell.execute_reply": "2023-04-26T17:10:02.411328Z"
        },
        "trusted": true,
        "id": "om31sKvN8EU3"
      },
      "execution_count": null,
      "outputs": []
    },
    {
      "cell_type": "code",
      "source": [
        "plt.figure(figsize=(8,6))\n",
        "sns.histplot(data=df, x='Price', kde=True, bins=30)\n",
        "plt.xlabel('Price')\n",
        "plt.ylabel('Frequency')\n",
        "plt.title('Histogram of product prices')\n",
        "plt.show()\n"
      ],
      "metadata": {
        "execution": {
          "iopub.status.busy": "2023-04-26T17:10:12.623027Z",
          "iopub.execute_input": "2023-04-26T17:10:12.623479Z",
          "iopub.status.idle": "2023-04-26T17:10:12.879747Z",
          "shell.execute_reply.started": "2023-04-26T17:10:12.62344Z",
          "shell.execute_reply": "2023-04-26T17:10:12.877692Z"
        },
        "trusted": true,
        "id": "QHKwDIRr8EU3"
      },
      "execution_count": null,
      "outputs": []
    },
    {
      "cell_type": "code",
      "source": [
        "plt.figure(figsize=(8,6))\n",
        "sns.boxplot(data=df, x='Product type', y='Price')\n",
        "plt.xlabel('Product type')\n",
        "plt.ylabel('Price')\n",
        "plt.title('Box plot of product prices by product type')\n",
        "plt.show()\n"
      ],
      "metadata": {
        "execution": {
          "iopub.status.busy": "2023-04-26T17:10:23.698668Z",
          "iopub.execute_input": "2023-04-26T17:10:23.699141Z",
          "iopub.status.idle": "2023-04-26T17:10:23.897324Z",
          "shell.execute_reply.started": "2023-04-26T17:10:23.699103Z",
          "shell.execute_reply": "2023-04-26T17:10:23.895455Z"
        },
        "trusted": true,
        "id": "phODD1TY8EU3"
      },
      "execution_count": null,
      "outputs": []
    },
    {
      "cell_type": "code",
      "source": [
        "plt.figure(figsize=(8,6))\n",
        "sns.scatterplot(data=df, x='Number of products sold', y='Revenue generated')\n",
        "plt.xlabel('Number of products sold')\n",
        "plt.ylabel('Revenue generated')\n",
        "plt.title('Scatter plot of revenue generated vs. number of products sold')\n",
        "plt.show()\n"
      ],
      "metadata": {
        "execution": {
          "iopub.status.busy": "2023-04-26T17:10:44.685913Z",
          "iopub.execute_input": "2023-04-26T17:10:44.687106Z",
          "iopub.status.idle": "2023-04-26T17:10:45.659995Z",
          "shell.execute_reply.started": "2023-04-26T17:10:44.687054Z",
          "shell.execute_reply": "2023-04-26T17:10:45.658501Z"
        },
        "trusted": true,
        "id": "do2_dNUy8EU3"
      },
      "execution_count": null,
      "outputs": []
    },
    {
      "cell_type": "code",
      "source": [
        "plt.figure(figsize=(8,6))\n",
        "sns.violinplot(data=df, x='Location', y='Lead times')\n",
        "plt.xlabel('Supplier location')\n",
        "plt.ylabel('Lead times')\n",
        "plt.title('Violin plot of lead times by supplier location')\n",
        "plt.show()\n"
      ],
      "metadata": {
        "execution": {
          "iopub.status.busy": "2023-04-26T17:11:51.392483Z",
          "iopub.execute_input": "2023-04-26T17:11:51.394182Z",
          "iopub.status.idle": "2023-04-26T17:11:51.73105Z",
          "shell.execute_reply.started": "2023-04-26T17:11:51.394113Z",
          "shell.execute_reply": "2023-04-26T17:11:51.730087Z"
        },
        "trusted": true,
        "id": "Zd3_JnTn8EU3"
      },
      "execution_count": null,
      "outputs": []
    },
    {
      "cell_type": "code",
      "source": [
        "plt.figure(figsize=(12,6))\n",
        "corr = df.corr()\n",
        "sns.heatmap(corr, annot=True, cmap='Blues')\n",
        "plt.title('Heatmap of the correlation between variables')\n",
        "plt.show()\n"
      ],
      "metadata": {
        "execution": {
          "iopub.status.busy": "2023-04-26T17:12:16.575081Z",
          "iopub.execute_input": "2023-04-26T17:12:16.575578Z",
          "iopub.status.idle": "2023-04-26T17:12:17.992873Z",
          "shell.execute_reply.started": "2023-04-26T17:12:16.575535Z",
          "shell.execute_reply": "2023-04-26T17:12:17.991759Z"
        },
        "trusted": true,
        "id": "WA1D8MMu8EU3"
      },
      "execution_count": null,
      "outputs": []
    },
    {
      "cell_type": "code",
      "source": [
        "# group the data by product type and calculate the total revenue generated by each product\n",
        "product_revenue = df.groupby('Product type')['Revenue generated'].sum()\n",
        "\n",
        "# sort the products by revenue in descending order\n",
        "product_revenue = product_revenue.sort_values(ascending=False)\n",
        "\n",
        "# plot a bar chart of the top 10 products by revenue\n",
        "plt.figure(figsize=(8,6))\n",
        "sns.barplot(x=product_revenue[:10], y=product_revenue[:10].index, palette='Blues_r')\n",
        "plt.xlabel('Revenue Generated')\n",
        "plt.ylabel('Product Type')\n",
        "plt.title('Top 10 Products by Revenue')\n"
      ],
      "metadata": {
        "execution": {
          "iopub.status.busy": "2023-04-26T17:15:10.662074Z",
          "iopub.execute_input": "2023-04-26T17:15:10.662962Z",
          "iopub.status.idle": "2023-04-26T17:15:10.872857Z",
          "shell.execute_reply.started": "2023-04-26T17:15:10.662915Z",
          "shell.execute_reply": "2023-04-26T17:15:10.871145Z"
        },
        "trusted": true,
        "id": "updxkXSE8EU4"
      },
      "execution_count": null,
      "outputs": []
    },
    {
      "cell_type": "code",
      "source": [
        "# group the data by transportation modes and calculate the total shipping costs for each mode\n",
        "transportation_costs = df.groupby('Transportation modes')['Shipping costs'].sum()\n",
        "\n",
        "# plot a pie chart of the shipping costs by transportation mode\n",
        "plt.figure(figsize=(8,6))\n",
        "plt.pie(transportation_costs, labels=transportation_costs.index, autopct='%1.1f%%')\n",
        "plt.title('Shipping Costs by Transportation Mode')\n"
      ],
      "metadata": {
        "execution": {
          "iopub.status.busy": "2023-04-26T17:15:24.703521Z",
          "iopub.execute_input": "2023-04-26T17:15:24.704025Z",
          "iopub.status.idle": "2023-04-26T17:15:24.854978Z",
          "shell.execute_reply.started": "2023-04-26T17:15:24.703983Z",
          "shell.execute_reply": "2023-04-26T17:15:24.853182Z"
        },
        "trusted": true,
        "id": "ox-KOrDa8EU4"
      },
      "execution_count": null,
      "outputs": []
    },
    {
      "cell_type": "code",
      "source": [
        "# plot a scatter plot of manufacturing costs and lead times\n",
        "plt.figure(figsize=(8,6))\n",
        "sns.scatterplot(data=df, x='Manufacturing lead time', y='Manufacturing costs')\n",
        "plt.xlabel('Manufacturing Lead Time')\n",
        "plt.ylabel('Manufacturing Costs')\n",
        "plt.title('Manufacturing Costs vs Lead Time')\n"
      ],
      "metadata": {
        "execution": {
          "iopub.status.busy": "2023-04-26T17:15:39.933961Z",
          "iopub.execute_input": "2023-04-26T17:15:39.934468Z",
          "iopub.status.idle": "2023-04-26T17:15:40.24132Z",
          "shell.execute_reply.started": "2023-04-26T17:15:39.934426Z",
          "shell.execute_reply": "2023-04-26T17:15:40.239713Z"
        },
        "trusted": true,
        "id": "cBY4FjJN8EU4"
      },
      "execution_count": null,
      "outputs": []
    },
    {
      "cell_type": "markdown",
      "source": [
        "*Based on the analysis of the given dataset, it is evident that there is a wealth of information that can be extracted to gain insights into the supply chain operations. Through the use of various visualizations, we were able to identify the most popular products, revenue generation, transportation modes, shipping costs, lead times, and manufacturing costs, among other metrics.\n",
        "\n",
        "*This analysis can help inform strategic decision-making and identify areas for improvement in the supply chain operations. For example, it may be possible to optimize inventory management, reduce waste and inefficiencies, improve product quality, reduce carbon emissions, and strengthen supplier relationships.\n",
        "\n",
        "*Overall, the insights gained from analyzing this dataset can help drive positive change in the supply chain, leading to improved efficiency, sustainability, and profitability.***"
      ],
      "metadata": {
        "id": "zB3axf3T8EU4"
      }
    }
  ]
}